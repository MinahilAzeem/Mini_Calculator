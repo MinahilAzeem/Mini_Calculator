{
  "nbformat": 4,
  "nbformat_minor": 0,
  "metadata": {
    "colab": {
      "provenance": []
    },
    "kernelspec": {
      "name": "python3",
      "display_name": "Python 3"
    },
    "language_info": {
      "name": "python"
    }
  },
  "cells": [
    {
      "cell_type": "markdown",
      "source": [
        "# **Mini Calculator using Function**"
      ],
      "metadata": {
        "id": "JczeyCCKhhsW"
      }
    },
    {
      "cell_type": "code",
      "source": [
        "def add(x,y):\n",
        "  return x+y\n",
        "def sub(x,y):\n",
        "  return x-y\n",
        "def mul(x,y):\n",
        "  return x*y\n",
        "def div(x,y):\n",
        "  return(x/y)\n"
      ],
      "metadata": {
        "id": "KyDBA6gLhiEZ"
      },
      "execution_count": 9,
      "outputs": []
    },
    {
      "cell_type": "code",
      "source": [
        "while True:\n",
        "  choices= input(\"enter choices as add, sub, mul, div,quit : \")\n",
        "  if choices == 'quit':\n",
        "    break;\n",
        "  elif choices == 'add':\n",
        "    n1=int(input(\"enter number: \"))\n",
        "    n2=int(input(\"enter 2nd number: \"))\n",
        "    res=add(n1,n2)\n",
        "    print(f\"Addition of {n1} and {n2} is \",res)\n",
        "  elif choices == 'sub':\n",
        "    n1=int(input(\"enter number: \"))\n",
        "    n2=int(input(\"enter 2nd number: \"))\n",
        "    res=sub(n1,n2)\n",
        "    print(f\"subtraction of {n1} and {n2} is \",res)\n",
        "  elif choices == 'mul':\n",
        "    n1=int(input(\"enter number: \"))\n",
        "    n2=int(input(\"enter 2nd number: \"))\n",
        "    res=mul(n1,n2)\n",
        "    print(f\"multiplication of {n1} and {n2} is \",res)\n",
        "  elif choices == 'div':\n",
        "    n1=int(input(\"enter number: \"))\n",
        "    n2=int(input(\"enter 2nd number: \"))\n",
        "    res=div(n1,n2)\n",
        "    print(f\"division of {n1} and {n2} is \",res)"
      ],
      "metadata": {
        "colab": {
          "base_uri": "https://localhost:8080/"
        },
        "id": "jAOscBXyhlVG",
        "outputId": "53c508a3-2d92-465a-9b0f-0b2910b07da8"
      },
      "execution_count": 10,
      "outputs": [
        {
          "name": "stdout",
          "output_type": "stream",
          "text": [
            "enter choices as add, sub, mul, div,quit : add\n",
            "enter number: 3\n",
            "enter 2nd number: 4\n",
            "Addition of 3 and 4 is  7\n",
            "enter choices as add, sub, mul, div,quit : mul\n",
            "enter number: 4\n",
            "enter 2nd number: 5\n",
            "multiplication of 4 and 5 is  20\n",
            "enter choices as add, sub, mul, div,quit : div\n",
            "enter number: 25\n",
            "enter 2nd number: 5\n",
            "division of 25 and 5 is  5.0\n",
            "enter choices as add, sub, mul, div,quit : sub\n",
            "enter number: 5\n",
            "enter 2nd number: 2\n",
            "subtraction of 5 and 2 is  3\n",
            "enter choices as add, sub, mul, div,quit : quit\n"
          ]
        }
      ]
    },
    {
      "cell_type": "markdown",
      "source": [
        "# **Shorter way**"
      ],
      "metadata": {
        "id": "WX01k6Y_iOG8"
      }
    },
    {
      "cell_type": "code",
      "source": [
        "def add(x,y):\n",
        "  return x+y\n",
        "def sub(x,y):\n",
        "  return x-y\n",
        "def mul(x,y):\n",
        "  return x*y\n",
        "def div(x,y):\n",
        "  return(x/y)\n"
      ],
      "metadata": {
        "id": "pYpjijY9iR3o"
      },
      "execution_count": 11,
      "outputs": []
    },
    {
      "cell_type": "code",
      "source": [
        "while True:\n",
        "  choice= input(\"Enter your operation: \")\n",
        "  if choice == 'quit':\n",
        "    break;\n",
        "  if choice in ('add','sub','mul','div'):\n",
        "    n1=float(input(\"enter number: \"))\n",
        "    n2=float(input(\"enter 2nd number: \"))\n",
        "    if choice == 'add':\n",
        "      print(f\"Addition of {n1} and {n2} is \",add(n1,n2))\n",
        "    elif choice == 'sub':\n",
        "      print(f\"Subtraction of {n1} and {n2} is \",sub(n1,n2))\n",
        "    elif choice == 'mul':\n",
        "      print(f\"Multiplication of {n1} and {n2} is \",mul(n1,n2))\n",
        "    elif choice == 'div':\n",
        "      print(f\"Division of {n1} and {n2} is \",div(n1,n2))\n",
        "    else:\n",
        "      print('Invalid Operation')\n",
        "  else:\n",
        "     print('Invalid Choice')\n",
        "\n"
      ],
      "metadata": {
        "colab": {
          "base_uri": "https://localhost:8080/"
        },
        "id": "fVuchU5siXe0",
        "outputId": "0466e242-4460-423e-acf1-d65d39fa7adc"
      },
      "execution_count": 14,
      "outputs": [
        {
          "name": "stdout",
          "output_type": "stream",
          "text": [
            "Enter your operation: add\n",
            "enter number: 4\n",
            "enter 2nd number: 5\n",
            "Addition of 4.0 and 5.0 is  9.0\n",
            "Enter your operation: mul\n",
            "enter number: 4\n",
            "enter 2nd number: 3\n",
            "Multiplication of 4.0 and 3.0 is  12.0\n",
            "Enter your operation: div\n",
            "enter number: 5\n",
            "enter 2nd number: 2\n",
            "Division of 5.0 and 2.0 is  2.5\n",
            "Enter your operation: mod\n",
            "Invalid Choice\n",
            "Enter your operation: addd\n",
            "Invalid Choice\n",
            "Enter your operation: quit\n"
          ]
        }
      ]
    }
  ]
}